{
 "cells": [
  {
   "cell_type": "code",
   "execution_count": 1,
   "id": "90d232ea",
   "metadata": {},
   "outputs": [
    {
     "name": "stdout",
     "output_type": "stream",
     "text": [
      "\n",
      "train data info:\n",
      "<class 'pandas.core.frame.DataFrame'>\n",
      "RangeIndex: 52981 entries, 0 to 52980\n",
      "Data columns (total 25 columns):\n",
      " #   Column                          Non-Null Count  Dtype  \n",
      "---  ------                          --------------  -----  \n",
      " 0   hotel                           52981 non-null  object \n",
      " 1   lead_time                       52981 non-null  int64  \n",
      " 2   stays_in_weekend_nights         52981 non-null  int64  \n",
      " 3   stays_in_week_nights            52981 non-null  int64  \n",
      " 4   adults                          52981 non-null  int64  \n",
      " 5   children                        52981 non-null  object \n",
      " 6   meal                            52981 non-null  object \n",
      " 7   country                         52681 non-null  object \n",
      " 8   market_segment                  52981 non-null  object \n",
      " 9   distribution_channel            52981 non-null  object \n",
      " 10  is_repeated_guest               52981 non-null  int64  \n",
      " 11  previous_cancellations          52981 non-null  int64  \n",
      " 12  previous_bookings_not_canceled  52981 non-null  int64  \n",
      " 13  reserved_room_type              52981 non-null  object \n",
      " 14  assigned_room_type              52981 non-null  object \n",
      " 15  booking_changes                 52981 non-null  int64  \n",
      " 16  deposit_type                    52981 non-null  object \n",
      " 17  agent                           44338 non-null  float64\n",
      " 18  company                         3939 non-null   float64\n",
      " 19  days_in_waiting_list            52981 non-null  int64  \n",
      " 20  customer_type                   52981 non-null  object \n",
      " 21  average_daily_rate              52981 non-null  float64\n",
      " 22  required_car_parking_spaces     52981 non-null  object \n",
      " 23  total_of_special_requests       52981 non-null  int64  \n",
      " 24  arrival_date                    52981 non-null  object \n",
      "dtypes: float64(3), int64(10), object(12)\n",
      "memory usage: 10.1+ MB\n",
      "\n",
      "test data info:\n",
      "<class 'pandas.core.frame.DataFrame'>\n",
      "RangeIndex: 22185 entries, 0 to 22184\n",
      "Data columns (total 25 columns):\n",
      " #   Column                          Non-Null Count  Dtype  \n",
      "---  ------                          --------------  -----  \n",
      " 0   id                              22185 non-null  int64  \n",
      " 1   hotel                           22185 non-null  object \n",
      " 2   lead_time                       22185 non-null  int64  \n",
      " 3   stays_in_weekend_nights         22185 non-null  int64  \n",
      " 4   stays_in_week_nights            22185 non-null  int64  \n",
      " 5   adults                          22185 non-null  int64  \n",
      " 6   meal                            22185 non-null  object \n",
      " 7   country                         22064 non-null  object \n",
      " 8   market_segment                  22185 non-null  object \n",
      " 9   distribution_channel            22185 non-null  object \n",
      " 10  is_repeated_guest               22185 non-null  int64  \n",
      " 11  previous_cancellations          22185 non-null  int64  \n",
      " 12  previous_bookings_not_canceled  22185 non-null  int64  \n",
      " 13  reserved_room_type              22185 non-null  object \n",
      " 14  assigned_room_type              22185 non-null  object \n",
      " 15  booking_changes                 22185 non-null  int64  \n",
      " 16  deposit_type                    22185 non-null  object \n",
      " 17  agent                           18518 non-null  float64\n",
      " 18  company                         1667 non-null   float64\n",
      " 19  days_in_waiting_list            22185 non-null  int64  \n",
      " 20  customer_type                   22185 non-null  object \n",
      " 21  average_daily_rate              22185 non-null  float64\n",
      " 22  required_car_parking_spaces     22185 non-null  object \n",
      " 23  total_of_special_requests       22185 non-null  int64  \n",
      " 24  arrival_date                    22185 non-null  object \n",
      "dtypes: float64(3), int64(11), object(11)\n",
      "memory usage: 4.2+ MB\n"
     ]
    }
   ],
   "source": [
    "import pandas as pd\n",
    "path_data_dir = \"../../data/inputs/\" \n",
    "train_data_file = path_data_dir + \"hoteles-entrena.csv\" \n",
    "test_data_file = path_data_dir + \"hoteles-prueba.csv\"\n",
    "#train data reanding\n",
    "train_data = pd.read_csv(train_data_file, sep=\",\")\n",
    "print('')\n",
    "print('train data info:')\n",
    "train_data.info()\n",
    "test_data = pd.read_csv(test_data_file, sep=\",\")\n",
    "print('')\n",
    "print('test data info:')\n",
    "test_data.info()"
   ]
  },
  {
   "cell_type": "code",
   "execution_count": 2,
   "id": "6f3e334d",
   "metadata": {},
   "outputs": [
    {
     "data": {
      "text/plain": [
       "pandas.core.series.Series"
      ]
     },
     "execution_count": 2,
     "metadata": {},
     "output_type": "execute_result"
    }
   ],
   "source": [
    "train_data['children'] = train_data['children'].apply(lambda x: 0 if x == 'none' else 1)\n",
    "type(train_data['children'])"
   ]
  },
  {
   "cell_type": "code",
   "execution_count": 3,
   "id": "675a5b5b",
   "metadata": {},
   "outputs": [
    {
     "name": "stdout",
     "output_type": "stream",
     "text": [
      "Columns in train_data but not in test_data: {'children'}\n"
     ]
    }
   ],
   "source": [
    "missing_in_test = set(train_data.columns) - set(test_data.columns)\n",
    "print(\"Columns in train_data but not in test_data:\", missing_in_test)"
   ]
  },
  {
   "cell_type": "code",
   "execution_count": 4,
   "id": "8f6af335",
   "metadata": {},
   "outputs": [
    {
     "data": {
      "text/plain": [
       "0"
      ]
     },
     "execution_count": 4,
     "metadata": {},
     "output_type": "execute_result"
    }
   ],
   "source": [
    "# Convert children to numeric\n",
    "train_data['children'] = pd.to_numeric(train_data['children'], errors='coerce')\n",
    "\n",
    "# Define target: presence of children (0 or 1)\n",
    "train_data['has_children'] = (train_data['children'] > 0).astype(int)\n",
    "y = train_data['has_children']\n",
    "train_data['children'].isna().sum()\n"
   ]
  },
  {
   "cell_type": "code",
   "execution_count": 5,
   "id": "8595bac2",
   "metadata": {},
   "outputs": [
    {
     "name": "stdout",
     "output_type": "stream",
     "text": [
      "0        0\n",
      "1        0\n",
      "2        0\n",
      "3        0\n",
      "4        0\n",
      "        ..\n",
      "52976    0\n",
      "52977    0\n",
      "52978    0\n",
      "52979    0\n",
      "52980    0\n",
      "Name: children, Length: 52981, dtype: int64\n"
     ]
    }
   ],
   "source": [
    "train_data['children'].shape\n",
    "print(train_data['children'])"
   ]
  },
  {
   "cell_type": "markdown",
   "id": "754c88d3",
   "metadata": {},
   "source": [
    "Create a Pipeline for preprocessing and modeling"
   ]
  },
  {
   "cell_type": "code",
   "execution_count": 6,
   "id": "c8e6745a",
   "metadata": {},
   "outputs": [
    {
     "name": "stdout",
     "output_type": "stream",
     "text": [
      "Validation accuracy: 0.9333773709540436\n"
     ]
    }
   ],
   "source": [
    "from sklearn.model_selection import train_test_split\n",
    "from sklearn.preprocessing import OneHotEncoder, StandardScaler\n",
    "from sklearn.impute import SimpleImputer\n",
    "from sklearn.compose import ColumnTransformer\n",
    "from sklearn.pipeline import Pipeline\n",
    "from sklearn.linear_model import LogisticRegression\n",
    "\n",
    "# Define features (exclude 'children')\n",
    "X = train_data.drop(columns=['children', 'has_children'])\n",
    "\n",
    "# Split categorical/numerical\n",
    "categorical_features = X.select_dtypes(include=['object']).columns.tolist()\n",
    "numerical_features = X.select_dtypes(include=['int64','float64']).columns.tolist()\n",
    "\n",
    "# Imputers (no data evalable set median value for numerical, most_frequent for categorical)\n",
    "numeric_transformer = Pipeline(steps=[\n",
    "    ('imputer', SimpleImputer(strategy='median')),\n",
    "    ('scaler', StandardScaler())\n",
    "])\n",
    "\n",
    "categorical_transformer = Pipeline(steps=[\n",
    "    ('imputer', SimpleImputer(strategy='most_frequent')),\n",
    "    ('encoder', OneHotEncoder(handle_unknown='ignore'))\n",
    "])\n",
    "\n",
    "# Preprocessor\n",
    "preprocessor = ColumnTransformer(\n",
    "    transformers=[\n",
    "        ('num', numeric_transformer, numerical_features),\n",
    "        ('cat', categorical_transformer, categorical_features)\n",
    "    ])\n",
    "\n",
    "# Model\n",
    "clf = Pipeline(steps=[\n",
    "    ('preprocessor', preprocessor),\n",
    "    ('classifier', LogisticRegression(max_iter=1000))\n",
    "])\n",
    "\n",
    "# Train/test split\n",
    "X_train, X_val, y_train, y_val = train_test_split(X, y, test_size=0.2, random_state=42)\n",
    "\n",
    "# Fit\n",
    "clf.fit(X_train, y_train)\n",
    "\n",
    "print(\"Validation accuracy:\", clf.score(X_val, y_val))\n"
   ]
  },
  {
   "cell_type": "code",
   "execution_count": 7,
   "id": "63e00823",
   "metadata": {},
   "outputs": [],
   "source": [
    "#  prep test data for pipeline}\n",
    "df_test = test_data.copy()\n",
    "\n",
    "\n"
   ]
  },
  {
   "cell_type": "code",
   "execution_count": 8,
   "id": "3c40604f",
   "metadata": {},
   "outputs": [],
   "source": [
    "\n",
    "# Predict on validation set\n",
    "y_pred = clf.predict(df_test)\n",
    "\n",
    "\n"
   ]
  },
  {
   "cell_type": "code",
   "execution_count": 9,
   "id": "3d55cb8e",
   "metadata": {},
   "outputs": [],
   "source": [
    "# Predict probabilities for validation set (y=1 means has children)\n",
    "y_proba = clf.predict_proba(df_test)[:, 1]\n",
    "X_test = df_test.copy()\n",
    "X_test['id'] = range(1, len(df_test) + 1)"
   ]
  },
  {
   "cell_type": "code",
   "execution_count": 10,
   "id": "35aebfd6",
   "metadata": {},
   "outputs": [
    {
     "data": {
      "text/plain": [
       "(22185, 2)"
      ]
     },
     "execution_count": 10,
     "metadata": {},
     "output_type": "execute_result"
    }
   ],
   "source": [
    "# Create a  DataFrame for submissio \n",
    "df_submission = pd.DataFrame({\n",
    "    'id': X_test['id'],\n",
    "    'prob': y_proba\n",
    "})\n",
    "df_submission.head()\n",
    "df_submission.shape"
   ]
  },
  {
   "cell_type": "code",
   "execution_count": 11,
   "id": "6163f93d",
   "metadata": {},
   "outputs": [
    {
     "name": "stdout",
     "output_type": "stream",
     "text": [
      "sumbission saved to: ../../data/outputs/submission_rdf_250929.csv\n"
     ]
    }
   ],
   "source": [
    "from datetime import datetime\n",
    "date = datetime.now().strftime('%y%m%d')  # format yy_mm_dd\n",
    "new_sumbission_file = f'../../data/outputs/submission_rdf_{date}.csv'\n",
    "\n",
    "df_submission.to_csv(new_sumbission_file, index=False)\n",
    "print(f'sumbission saved to: {new_sumbission_file}')"
   ]
  }
 ],
 "metadata": {
  "kernelspec": {
   "display_name": "base",
   "language": "python",
   "name": "python3"
  },
  "language_info": {
   "codemirror_mode": {
    "name": "ipython",
    "version": 3
   },
   "file_extension": ".py",
   "mimetype": "text/x-python",
   "name": "python",
   "nbconvert_exporter": "python",
   "pygments_lexer": "ipython3",
   "version": "3.11.7"
  }
 },
 "nbformat": 4,
 "nbformat_minor": 5
}
